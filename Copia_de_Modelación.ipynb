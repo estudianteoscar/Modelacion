{
  "nbformat": 4,
  "nbformat_minor": 0,
  "metadata": {
    "colab": {
      "name": "Copia de Modelación.ipynb",
      "provenance": [],
      "include_colab_link": true
    },
    "kernelspec": {
      "name": "python3",
      "display_name": "Python 3"
    },
    "language_info": {
      "name": "python"
    }
  },
  "cells": [
    {
      "cell_type": "markdown",
      "metadata": {
        "id": "view-in-github",
        "colab_type": "text"
      },
      "source": [
        "<a href=\"https://colab.research.google.com/github/estudianteoscar/Modelacion/blob/main/Copia_de_Modelaci%C3%B3n.ipynb\" target=\"_parent\"><img src=\"https://colab.research.google.com/assets/colab-badge.svg\" alt=\"Open In Colab\"/></a>"
      ]
    },
    {
      "cell_type": "markdown",
      "source": [
        "# MÉTODOS NUMÉRICOS\n",
        "Un método numérico es un procedimiento mediante el cual se obtiene, casi\n",
        "siempre de manera aproximada, la solución de ciertos problemas realizando\n",
        "cálculos puramente aritméticos y lógicos (operaciones aritméticas elementales,\n",
        "cálculo de funciones, consulta de una tabla de valores, cálculo preposicional,\n",
        "etc.). Un tal procedimiento consiste de una lista finita de instrucciones precisas que especifican una secuencia de operaciones algebraicas y lógicas (algoritmo), que producen o bien una aproximación de la solución del problema (solución numérica) o bien un mensaje. La eficiencia en el cálculo de dicha aproximación depende, en parte, de la facilidad de implementación del algoritmo y de las características especiales y limitaciones de los instrumentos de cálculo (los computadores). En general, al emplear estos instrumentos de cálculo se introducen errores llamados de redondeo.\n",
        "\n",
        "Ejemplos:"
      ],
      "metadata": {
        "id": "fC4skf_SiNgf"
      }
    },
    {
      "cell_type": "code",
      "execution_count": null,
      "metadata": {
        "id": "ZHx2qeSecGcq",
        "colab": {
          "base_uri": "https://localhost:8080/"
        },
        "outputId": "7a28953f-e0c4-414d-a0a3-1d61b9519265"
      },
      "outputs": [
        {
          "output_type": "execute_result",
          "data": {
            "text/plain": [
              "0.6666666666666666"
            ]
          },
          "metadata": {},
          "execution_count": 7
        }
      ],
      "source": [
        "2/3"
      ]
    },
    {
      "cell_type": "code",
      "source": [
        "2/3-0.6666666666666666"
      ],
      "metadata": {
        "id": "U9NvLpPjpWjP",
        "colab": {
          "base_uri": "https://localhost:8080/"
        },
        "outputId": "ea731dd9-c351-4104-f08f-81bbb14e42a4"
      },
      "execution_count": null,
      "outputs": [
        {
          "output_type": "execute_result",
          "data": {
            "text/plain": [
              "0.0"
            ]
          },
          "metadata": {},
          "execution_count": 8
        }
      ]
    },
    {
      "cell_type": "code",
      "source": [
        "# Ejemplo 2\n",
        "import math\n",
        "pi=math.pi\n",
        "p=3.141592653589793\n",
        "print(pi)"
      ],
      "metadata": {
        "id": "VeTW2MfacTpL",
        "colab": {
          "base_uri": "https://localhost:8080/"
        },
        "outputId": "a33597e7-1773-4bbd-e006-f82d40952c60"
      },
      "execution_count": null,
      "outputs": [
        {
          "output_type": "stream",
          "name": "stdout",
          "text": [
            "3.141592653589793\n"
          ]
        }
      ]
    },
    {
      "cell_type": "code",
      "source": [
        "# Ejemplo 3\n",
        "p=18817**2\n",
        "p"
      ],
      "metadata": {
        "colab": {
          "base_uri": "https://localhost:8080/"
        },
        "id": "N0wopAB0t-ZQ",
        "outputId": "9dbc4528-d19b-4df2-b174-2ebb95566524"
      },
      "execution_count": null,
      "outputs": [
        {
          "output_type": "execute_result",
          "data": {
            "text/plain": [
              "354079489"
            ]
          },
          "metadata": {},
          "execution_count": 11
        }
      ]
    },
    {
      "cell_type": "code",
      "source": [
        "q=3*10864**2\n",
        "q"
      ],
      "metadata": {
        "colab": {
          "base_uri": "https://localhost:8080/"
        },
        "id": "yfS3-P4BuC01",
        "outputId": "bdcbf7f8-a201-4153-8d5a-e9342bd2442f"
      },
      "execution_count": null,
      "outputs": [
        {
          "output_type": "execute_result",
          "data": {
            "text/plain": [
              "354079488"
            ]
          },
          "metadata": {},
          "execution_count": 12
        }
      ]
    },
    {
      "cell_type": "code",
      "source": [
        "p-q"
      ],
      "metadata": {
        "colab": {
          "base_uri": "https://localhost:8080/"
        },
        "id": "tolRijNnECXP",
        "outputId": "160c8485-ab71-407e-e095-29ccf8a6cd88"
      },
      "execution_count": null,
      "outputs": [
        {
          "output_type": "execute_result",
          "data": {
            "text/plain": [
              "1"
            ]
          },
          "metadata": {},
          "execution_count": 13
        }
      ]
    },
    {
      "cell_type": "markdown",
      "source": [
        "Realizando la diferencia\n",
        "\n",
        "$354079489-354079488=1$\n",
        "\n",
        "Ahora escribase en la máquina:\n",
        "\n",
        "\\\n",
        "$$a=18817^2-(10864*\\sqrt{3})^2$$\n",
        "\n",
        "\\\n",
        "$$b=18817-10864*\\sqrt{3}$$\n",
        "\n",
        "\\\n",
        "$$c=\\frac{1}{18817+10864*\\sqrt{3}}$$\n",
        "\n",
        "\\\n",
        "$$d=(18817-10864*\\sqrt{3})(18817+10864*\\sqrt{3})$$"
      ],
      "metadata": {
        "id": "VhTk8Do6gw6q"
      }
    },
    {
      "cell_type": "code",
      "source": [
        "a = 18817**2-(10864*math.sqrt(3))**2\n",
        "b = 18817-10864*math.sqrt(3)\n",
        "c = 1/(18817+10864*math.sqrt(3))\n",
        "d = (18817-10864*math.sqrt(3))*(18817+10864*math.sqrt(3))\n",
        "print(a)\n",
        "print(\"Este es el valor exacto\")\n",
        "print()\n",
        "print(b)\n",
        "print(\"Este es el valor de la diferencia\")\n",
        "print()\n",
        "print(c)\n",
        "print(d)"
      ],
      "metadata": {
        "colab": {
          "base_uri": "https://localhost:8080/"
        },
        "id": "wng8BzK4dLYP",
        "outputId": "7ab89acd-bc9f-441c-884e-09f42a945cdd"
      },
      "execution_count": null,
      "outputs": [
        {
          "output_type": "stream",
          "name": "stdout",
          "text": [
            "1.0\n",
            "Este es el valor exacto\n",
            "\n",
            "2.6571717171464115e-05\n",
            "Este es el valor de la diferencia\n",
            "\n",
            "2.6571717083117823e-05\n",
            "1.0000000033248244\n"
          ]
        }
      ]
    },
    {
      "cell_type": "markdown",
      "source": [
        "# Ejercicio 1\n",
        "Haga observaciones (desde la máquina) y conclusiones sobre los valores de:\n",
        "$$y=a^2-1$$\n",
        "donde $a=\\sqrt{primo}$.\n",
        "\n",
        "# Ejercicio 2\n",
        "Haga observaciones (desde la máquina) sobre los valores de:\n",
        "$$y=a^3\\pm 1$$\n",
        "donde $a=\\sqrt[3]{primo}$.\n",
        "\n",
        "# Ejercicio 3\n",
        "El número $π$ es un número trascendente, es decir, que sus n-ésimas potencias  son números irracionales. Escriba código en la máquina para potencias mayores de $π^{32}$ y haga sus observaciones y conclusiones.\n",
        "\n",
        "\\\n",
        "Haga el mismo ejercicio para el número trascendente $e$.\n"
      ],
      "metadata": {
        "id": "uvNT8FgKFuPk"
      }
    },
    {
      "cell_type": "code",
      "source": [
        "#Haga observaciones (desde la maquina)\n",
        "# y conclusiones sobrelos valores de: y=a²-1\n",
        "\n",
        "import math\n",
        "a=math.sqrt(7)**2 -1\n",
        "print(a)\n",
        "\n",
        "b=math.sqrt(7**2 +1)\n",
        "c=math.sqrt(7**2 -1)\n",
        "\n",
        "d=b*c\n",
        "print(d)"
      ],
      "metadata": {
        "id": "cF2qoq_fbWYU"
      },
      "execution_count": null,
      "outputs": []
    },
    {
      "cell_type": "code",
      "source": [
        "Ejericio 2\n",
        "#import numpy as np\n",
        "import numpy as np\n",
        "ymas=np.cbrt(3**7 +1)\n",
        "ymenos=np.cbrt(3**7 -1)\n",
        "print(ymas)\n",
        "print(ymenos)\n",
        "\n",
        "ymax=np.cbrt(7**2 -7*1 + 1**2)\n",
        "ymeno=np.cbrt(7**2 +7*1 + 1**2)\n",
        "print(ymax)\n",
        "print(ymeno)"
      ],
      "metadata": {
        "id": "r5EcYc-dbVcj"
      },
      "execution_count": null,
      "outputs": []
    },
    {
      "cell_type": "code",
      "source": [
        "#Ejercicio 3\n",
        "import math\n",
        "\n",
        "a=math.pi**32\n",
        "print(a)\n",
        "\n",
        "b=math.e**32\n",
        "print(b)"
      ],
      "metadata": {
        "id": "hYgRm-09FzIi"
      },
      "execution_count": null,
      "outputs": []
    },
    {
      "cell_type": "markdown",
      "source": [
        "## Problema, Modelo, Formulación matemática y Solución\n",
        "Ejercicio\n",
        "\n",
        "Hallar las dimensiones de un rectángulo, cuyo perímetro mide 36 cm y su área sea máxima."
      ],
      "metadata": {
        "id": "yllFX22vq6qr"
      }
    },
    {
      "cell_type": "code",
      "source": [
        "#Hallar las dimensiones de un rectagulo, cuyo perimetro\n",
        "#mide 36 cm y su area sea maxima\n",
        "\n",
        "#datos\n",
        "#{\n",
        "# 2b+2h=36\n",
        "#f(b,h) =b.h\n",
        "# }\n",
        "\n",
        "#2b + 2h = 36\n",
        "#2b=36-2h\n",
        "#b=36/2 - 2h/2\n",
        "import math\n",
        "from fractions  import Fraction\n",
        "\n",
        "a= Fraction(36, 2)\n",
        "print(\"El resultado de la fraccion homogenea es: \")\n",
        "print(a)\n",
        "\n",
        "#18-h\n",
        "\n",
        "print(\"F(n)=(18-h)-h\")\n",
        "print(\"Despejar nos daria 18h-h²\")\n",
        "print(\"El resultado es: 18-2h\")\n",
        "\n",
        "#18-2h\n",
        "div=18/2\n",
        "print(\"La altura es: \")\n",
        "print(div)\n",
        "\n",
        "print(\"------------------------\")\n",
        "print(\"Volvemos a utilizar la formula 2b+2h=36\")\n",
        "print(\"2b+18=36\")\n",
        "res=36-18\n",
        "print(res)\n",
        "div1=18/2\n",
        "print(\"La base es: \")\n",
        "print(div1)\n",
        "print(\"-----------------------------\")\n",
        "print(\"Su aerea maxima es:\")\n",
        "sum1=9*9\n",
        "print(sum1,\"m²\")\n",
        "\n",
        "\n",
        "\n",
        "\n",
        "\n",
        "\n"
      ],
      "metadata": {
        "id": "onKJRfTfQSUb"
      },
      "execution_count": null,
      "outputs": []
    },
    {
      "cell_type": "markdown",
      "source": [
        "## COMPUTACIÓN CIENTÍFICA Y ANÁLISIS NUMÉRICO\n",
        "La computación científica o las ciencias de la computación, son todas las ramas de estudio e investigación que utilizan información y algoritmos para la resolución de problemas informáticos.\n",
        "\n",
        "https://sites.google.com/site/practivricardogonzalez/ciencia-de-la-computa"
      ],
      "metadata": {
        "id": "msHmoeZCqan7"
      }
    },
    {
      "cell_type": "markdown",
      "source": [
        "La ciencia de la computacion se divide en varias ramas, en la parte de ciencia algoritmos experimentales, la ingeneria desarrollo y ing de software, la matematica complejidad de algoritmos, el arte diseño y construccion y validacion de modelos."
      ],
      "metadata": {
        "id": "IByn0aK1cIq_"
      }
    }
  ]
}